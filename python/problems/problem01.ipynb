{
 "cells": [
  {
   "cell_type": "markdown",
   "metadata": {},
   "source": [
    "# 상승장? 하락장?\n",
    "\n",
    "> 최고가와 최저가의 차이를 변동폭으로 정의할 때 (시가 + 변동폭)이 최고가 보다 높을 경우 \"상승장\", 그렇지 않은 경우 \"하락장\" 문자열을 출력하라.\n",
    "\n",
    "|Key Name|Description|\n",
    "|------|---|\n",
    "|opeing_price|최근 24시간 내 시작 거래금액|\n",
    "|closing_price|최근 24시간 내 마지막 거래금액|\n",
    "|min_price|최근 24시간 내 최저 거래금액|\n",
    "|max_price|최근 24시간 내 최고 거래금액|"
   ]
  },
  {
   "cell_type": "code",
   "execution_count": 1,
   "metadata": {},
   "outputs": [
    {
     "name": "stdout",
     "output_type": "stream",
     "text": [
      "{'opening_price': '12075000', 'closing_price': '13377000', 'min_price': '11879000', 'max_price': '13451000', 'average_price': '12528785.5484', 'units_traded': '14216.64743011', 'volume_1day': '14216.64743011', 'volume_7day': '90786.68692588', 'buy_price': '13377000', 'sell_price': '13388000', '24H_fluctate': '1302000', '24H_fluctate_rate': '10.78', 'date': '1563236163851'}\n"
     ]
    }
   ],
   "source": [
    "import requests\n",
    "\n",
    "url = \"https://api.bithumb.com/public/ticker/btc\"\n",
    "data = requests.get(url).json()['data']\n",
    "print(data)"
   ]
  },
  {
   "cell_type": "code",
   "execution_count": 7,
   "metadata": {},
   "outputs": [
    {
     "name": "stdout",
     "output_type": "stream",
     "text": [
      "상승장\n"
     ]
    }
   ],
   "source": [
    "# 아래에 코드를 작성하세요.\n",
    "max_price = int(data['max_price'])\n",
    "min_price = int(data['min_price'])\n",
    "opening_price = int(data['opening_price'])\n",
    "flu_value = max_price - min_price\n",
    "\n",
    "if opening_price + flu_value > max_price:\n",
    "    print('상승장')\n",
    "else:\n",
    "    print('하락장')"
   ]
  },
  {
   "cell_type": "markdown",
   "metadata": {},
   "source": [
    "# 모음 제거하기\n",
    "\n",
    "> 다음 문장의 모음을 제거하여 출력하세요.\n",
    "\n",
    "```\n",
    "예시 입력)\n",
    "\"Life is too short, you need python\"\n",
    "예시 출력)\n",
    "Lf s t shrt, y nd pythn\n",
    "```"
   ]
  },
  {
   "cell_type": "code",
   "execution_count": 192,
   "metadata": {},
   "outputs": [],
   "source": [
    "my_str = \"Life is too short, you need python\""
   ]
  },
  {
   "cell_type": "code",
   "execution_count": 193,
   "metadata": {},
   "outputs": [
    {
     "name": "stdout",
     "output_type": "stream",
     "text": [
      "Lf s t shrt, y nd pythn\n"
     ]
    }
   ],
   "source": [
    "# 아래에 코드를 작성하세요.\n",
    "\n",
    "# result=[]\n",
    "# for string in my_str:\n",
    "#     if string not in 'aeiou':\n",
    "#         del_vowel.append(string)\n",
    "# print(''.join(result))\n",
    "\n",
    "for vowel in 'aeiou':\n",
    "    my_str = my_str.replace(vowel,'')\n",
    "print(my_str)"
   ]
  },
  {
   "cell_type": "code",
   "execution_count": null,
   "metadata": {},
   "outputs": [],
   "source": [
    "# ----선생님----\n",
    "result = ''\n",
    "# my_str를 반복하면서\n",
    "for char in my_str:\n",
    "    # 모음이 아니면, result에 추가한다.\n",
    "    if char not in ['a','e','i','o','u']:\n",
    "        result += char\n",
    "# 반복문이 끝나면, 출력한다.\n",
    "print(result)"
   ]
  },
  {
   "cell_type": "markdown",
   "metadata": {},
   "source": [
    "# 개인정보보호\n",
    "> 사용자의 핸드폰번호를 입력 받으려고한다. 개인정보 보호를 위하여 뒷자리 4자리를 제외하고는 마스킹 처리를 하려고한다.\n",
    ">\n",
    "> 핸드폰번호는 010으로 시작해야하고 11자리여야한다. 핸드폰번호를 입력하지 않았다면 \"핸드폰번호를 입력하세요\"를 출력한다\n",
    "\n",
    "```\n",
    "예시 입력)\n",
    "01012341234\n",
    "예시 출력)\n",
    "*******1234\n",
    "```"
   ]
  },
  {
   "cell_type": "code",
   "execution_count": 120,
   "metadata": {},
   "outputs": [
    {
     "name": "stdout",
     "output_type": "stream",
     "text": [
      "01022266239\n"
     ]
    }
   ],
   "source": [
    "phone = input()"
   ]
  },
  {
   "cell_type": "code",
   "execution_count": 197,
   "metadata": {},
   "outputs": [
    {
     "name": "stdout",
     "output_type": "stream",
     "text": [
      "*******6239\n"
     ]
    }
   ],
   "source": [
    "# 아래에 코드를 작성하세요.\n",
    "\n",
    "if phone[0:3] != '010' or len(phone) != 11 or phone == '':\n",
    "    print('핸드폰번호를 입력하세요')\n",
    "    \n",
    "# else:\n",
    "#     phone_list = list(phone)\n",
    "#     for i in range(len(phone)-4):\n",
    "#         phone_list[i] = '*'\n",
    "#     print(''.join(phone_list))\n",
    "\n",
    "else:\n",
    "    print('*'*7 + phone[-4:])\n",
    "    "
   ]
  },
  {
   "cell_type": "code",
   "execution_count": 200,
   "metadata": {},
   "outputs": [
    {
     "name": "stdout",
     "output_type": "stream",
     "text": [
      "*******6239\n",
      "*******6239\n"
     ]
    }
   ],
   "source": [
    "if phone.startswith('010') and len(phone) == 11:\n",
    "    print(f'{phone[-4:]:*>11}')\n",
    "    print('{0:*>11}'.format(phone[-4:]))"
   ]
  },
  {
   "cell_type": "markdown",
   "metadata": {},
   "source": [
    "# 정중앙\n",
    "> 사용자가 입력한 문자열중 가운데 글자를 출력하라. 문자열이 짝수라면 가운데 두글자를 출력하라"
   ]
  },
  {
   "cell_type": "code",
   "execution_count": 113,
   "metadata": {},
   "outputs": [
    {
     "name": "stdout",
     "output_type": "stream",
     "text": [
      "짝수문자\n"
     ]
    }
   ],
   "source": [
    "text = input()"
   ]
  },
  {
   "cell_type": "code",
   "execution_count": 114,
   "metadata": {},
   "outputs": [
    {
     "name": "stdout",
     "output_type": "stream",
     "text": [
      "수문\n"
     ]
    }
   ],
   "source": [
    "# 아래에 코드를 작성하세요.\n",
    "if len(text) % 2 == 1:\n",
    "    print(text[len(text)//2])\n",
    "else:\n",
    "    print(text[len(text)//2-1:len(text)//2+1])\n",
    "    "
   ]
  },
  {
   "cell_type": "code",
   "execution_count": 209,
   "metadata": {
    "scrolled": false
   },
   "outputs": [
    {
     "name": "stdout",
     "output_type": "stream",
     "text": [
      "***\n",
      "***\n",
      "***\n"
     ]
    }
   ],
   "source": []
  }
 ],
 "metadata": {
  "kernelspec": {
   "display_name": "Python 3",
   "language": "python",
   "name": "python3"
  },
  "language_info": {
   "codemirror_mode": {
    "name": "ipython",
    "version": 3
   },
   "file_extension": ".py",
   "mimetype": "text/x-python",
   "name": "python",
   "nbconvert_exporter": "python",
   "pygments_lexer": "ipython3",
   "version": "3.7.3"
  }
 },
 "nbformat": 4,
 "nbformat_minor": 2
}
